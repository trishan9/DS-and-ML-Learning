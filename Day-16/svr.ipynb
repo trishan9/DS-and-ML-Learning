{
 "cells": [
  {
   "cell_type": "code",
   "execution_count": 34,
   "id": "28ba575c-e643-4623-b2a7-604040a6d051",
   "metadata": {},
   "outputs": [],
   "source": [
    "import numpy as np\n",
    "import pandas as pd\n",
    "import matplotlib.pyplot as plt\n",
    "\n",
    "from sklearn.preprocessing import StandardScaler\n",
    "from sklearn.model_selection import GridSearchCV\n",
    "from sklearn.svm import SVR\n",
    "from sklearn.metrics import r2_score, root_mean_squared_error"
   ]
  },
  {
   "cell_type": "code",
   "execution_count": 23,
   "id": "5e01a707-e3a5-4f59-b1fb-c105c93539b9",
   "metadata": {},
   "outputs": [
    {
     "data": {
      "text/html": [
       "<div>\n",
       "<style scoped>\n",
       "    .dataframe tbody tr th:only-of-type {\n",
       "        vertical-align: middle;\n",
       "    }\n",
       "\n",
       "    .dataframe tbody tr th {\n",
       "        vertical-align: top;\n",
       "    }\n",
       "\n",
       "    .dataframe thead th {\n",
       "        text-align: right;\n",
       "    }\n",
       "</style>\n",
       "<table border=\"1\" class=\"dataframe\">\n",
       "  <thead>\n",
       "    <tr style=\"text-align: right;\">\n",
       "      <th></th>\n",
       "      <th>Position</th>\n",
       "      <th>Level</th>\n",
       "      <th>Salary</th>\n",
       "    </tr>\n",
       "  </thead>\n",
       "  <tbody>\n",
       "    <tr>\n",
       "      <th>0</th>\n",
       "      <td>Business Analyst</td>\n",
       "      <td>1</td>\n",
       "      <td>45000</td>\n",
       "    </tr>\n",
       "    <tr>\n",
       "      <th>1</th>\n",
       "      <td>Junior Consultant</td>\n",
       "      <td>2</td>\n",
       "      <td>50000</td>\n",
       "    </tr>\n",
       "    <tr>\n",
       "      <th>2</th>\n",
       "      <td>Senior Consultant</td>\n",
       "      <td>3</td>\n",
       "      <td>60000</td>\n",
       "    </tr>\n",
       "    <tr>\n",
       "      <th>3</th>\n",
       "      <td>Manager</td>\n",
       "      <td>4</td>\n",
       "      <td>80000</td>\n",
       "    </tr>\n",
       "    <tr>\n",
       "      <th>4</th>\n",
       "      <td>Country Manager</td>\n",
       "      <td>5</td>\n",
       "      <td>110000</td>\n",
       "    </tr>\n",
       "    <tr>\n",
       "      <th>5</th>\n",
       "      <td>Region Manager</td>\n",
       "      <td>6</td>\n",
       "      <td>150000</td>\n",
       "    </tr>\n",
       "    <tr>\n",
       "      <th>6</th>\n",
       "      <td>Partner</td>\n",
       "      <td>7</td>\n",
       "      <td>200000</td>\n",
       "    </tr>\n",
       "    <tr>\n",
       "      <th>7</th>\n",
       "      <td>Senior Partner</td>\n",
       "      <td>8</td>\n",
       "      <td>300000</td>\n",
       "    </tr>\n",
       "    <tr>\n",
       "      <th>8</th>\n",
       "      <td>C-level</td>\n",
       "      <td>9</td>\n",
       "      <td>500000</td>\n",
       "    </tr>\n",
       "    <tr>\n",
       "      <th>9</th>\n",
       "      <td>CEO</td>\n",
       "      <td>10</td>\n",
       "      <td>1000000</td>\n",
       "    </tr>\n",
       "  </tbody>\n",
       "</table>\n",
       "</div>"
      ],
      "text/plain": [
       "            Position  Level   Salary\n",
       "0   Business Analyst      1    45000\n",
       "1  Junior Consultant      2    50000\n",
       "2  Senior Consultant      3    60000\n",
       "3            Manager      4    80000\n",
       "4    Country Manager      5   110000\n",
       "5     Region Manager      6   150000\n",
       "6            Partner      7   200000\n",
       "7     Senior Partner      8   300000\n",
       "8            C-level      9   500000\n",
       "9                CEO     10  1000000"
      ]
     },
     "execution_count": 23,
     "metadata": {},
     "output_type": "execute_result"
    }
   ],
   "source": [
    "dataset = pd.read_csv(\"Position_Salaries.csv\")\n",
    "dataset"
   ]
  },
  {
   "cell_type": "code",
   "execution_count": 24,
   "id": "d9462563-4260-4b24-9ea1-ec2fe548c306",
   "metadata": {},
   "outputs": [
    {
     "name": "stdout",
     "output_type": "stream",
     "text": [
      "[[ 1]\n",
      " [ 2]\n",
      " [ 3]\n",
      " [ 4]\n",
      " [ 5]\n",
      " [ 6]\n",
      " [ 7]\n",
      " [ 8]\n",
      " [ 9]\n",
      " [10]] [  45000   50000   60000   80000  110000  150000  200000  300000  500000\n",
      " 1000000]\n"
     ]
    }
   ],
   "source": [
    "X = dataset.iloc[:, 1:-1].values\n",
    "y = dataset.iloc[:, -1].values\n",
    "print(X, y)"
   ]
  },
  {
   "cell_type": "code",
   "execution_count": 25,
   "id": "33cfb263-ce32-4c3f-b1ab-2750a3bbb9f3",
   "metadata": {},
   "outputs": [
    {
     "name": "stdout",
     "output_type": "stream",
     "text": [
      "[[-1.5666989 ]\n",
      " [-1.21854359]\n",
      " [-0.87038828]\n",
      " [-0.52223297]\n",
      " [-0.17407766]\n",
      " [ 0.17407766]\n",
      " [ 0.52223297]\n",
      " [ 0.87038828]\n",
      " [ 1.21854359]\n",
      " [ 1.5666989 ]] [[-0.72004253]\n",
      " [-0.70243757]\n",
      " [-0.66722767]\n",
      " [-0.59680786]\n",
      " [-0.49117815]\n",
      " [-0.35033854]\n",
      " [-0.17428902]\n",
      " [ 0.17781001]\n",
      " [ 0.88200808]\n",
      " [ 2.64250325]]\n"
     ]
    }
   ],
   "source": [
    "sc_X = StandardScaler()\n",
    "sc_y = StandardScaler()\n",
    "X_scaled = sc_X.fit_transform(X)\n",
    "y_scaled = sc_y.fit_transform(y.reshape(-1,1))\n",
    "print(X_scaled, y_scaled)"
   ]
  },
  {
   "cell_type": "code",
   "execution_count": 36,
   "id": "f812994c-906e-4ec6-b384-6393851bfe94",
   "metadata": {},
   "outputs": [
    {
     "data": {
      "image/png": "[encoded data removed]",
      "text/plain": [
       "<Figure size 640x480 with 1 Axes>"
      ]
     },
     "metadata": {},
     "output_type": "display_data"
    },
    {
     "name": "stdout",
     "output_type": "stream",
     "text": [
      "Predicted Salary for Level 7.5: 263740.8532800313\n",
      "R2 Score: 0.7516001070620797\n",
      "RMSE: 141550.3241399742\n"
     ]
    }
   ],
   "source": [
    "svr_regressor = SVR(kernel='rbf')\n",
    "svr_regressor.fit(X_scaled, y_scaled.ravel())\n",
    "scaled_y_pred = svr_regressor.predict(sc_X.transform([[7.5]]))\n",
    "y_pred = sc_y.inverse_transform(scaled_y_pred.reshape(-1,1))\n",
    "\n",
    "plt.scatter(X, y)\n",
    "plt.plot(X, sc_y.inverse_transform(svr_regressor.predict(X_scaled).reshape(-1,1)), color='red')\n",
    "plt.show()\n",
    "\n",
    "print(f\"Predicted Salary for Level 7.5: {y_pred[0][0]}\")\n",
    "print(f\"R2 Score: {r2_score(y, sc_y.inverse_transform(svr_regressor.predict(X_scaled).reshape(-1,1)))}\")\n",
    "print(f\"RMSE: {root_mean_squared_error(y, sc_y.inverse_transform(svr_regressor.predict(X_scaled).reshape(-1,1)))}\")"
   ]
  },
  {
   "cell_type": "code",
   "execution_count": 37,
   "id": "3dfd5c3f-d7dc-4dc6-84b8-1bbb6007b710",
   "metadata": {},
   "outputs": [
    {
     "name": "stdout",
     "output_type": "stream",
     "text": [
      "Best parameters: {'C': np.float64(51.79474679231202), 'epsilon': np.float64(0.0001)}\n",
      "Best cross-validation score: 0.13153981428836978\n"
     ]
    },
    {
     "data": {
      "image/png": "[encoded data removed]",
      "text/plain": [
       "<Figure size 640x480 with 1 Axes>"
      ]
     },
     "metadata": {},
     "output_type": "display_data"
    },
    {
     "name": "stdout",
     "output_type": "stream",
     "text": [
      "Predicted Salary for Level 7.5: 232592.05063753662\n",
      "R2 Score: 0.9988809633299174\n",
      "RMSE: 9500.737636697879\n"
     ]
    }
   ],
   "source": [
    "param_grid = {\n",
    "    'C': np.logspace(-4,4,50),\n",
    "    'epsilon': np.logspace(-4,4,50)\n",
    "}\n",
    "\n",
    "grid_search = GridSearchCV(svr_regressor, param_grid, cv=10, scoring='neg_mean_squared_error')\n",
    "\n",
    "grid_search.fit(X_scaled, y_scaled.ravel())\n",
    "best_svr_regressor = grid_search.best_estimator_\n",
    "\n",
    "print(\"Best parameters:\", grid_search.best_params_)\n",
    "print(\"Best cross-validation score:\", -grid_search.best_score_)\n",
    "\n",
    "scaled_y_pred = best_svr_regressor.predict(sc_X.transform([[7.5]]))\n",
    "y_pred = sc_y.inverse_transform(scaled_y_pred.reshape(-1,1))\n",
    "\n",
    "plt.scatter(X, y)\n",
    "plt.plot(X, sc_y.inverse_transform(best_svr_regressor.predict(X_scaled).reshape(-1,1)), color='red')\n",
    "plt.show()\n",
    "\n",
    "print(f\"Predicted Salary for Level 7.5: {y_pred[0][0]}\")\n",
    "print(f\"R2 Score: {r2_score(y, sc_y.inverse_transform(best_svr_regressor.predict(X_scaled).reshape(-1,1)))}\")\n",
    "print(f\"RMSE: {root_mean_squared_error(y, sc_y.inverse_transform(best_svr_regressor.predict(X_scaled).reshape(-1,1)))}\")"
   ]
  }
 ],
 "metadata": {
  "kernelspec": {
   "display_name": "Python 3 (ipykernel)",
   "language": "python",
   "name": "python3"
  },
  "language_info": {
   "codemirror_mode": {
    "name": "ipython",
    "version": 3
   },
   "file_extension": ".py",
   "mimetype": "text/x-python",
   "name": "python",
   "nbconvert_exporter": "python",
   "pygments_lexer": "ipython3",
   "version": "3.12.6"
  }
 },
 "nbformat": 4,
 "nbformat_minor": 5
}
